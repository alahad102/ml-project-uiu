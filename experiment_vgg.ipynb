{
  "cells": [
    {
      "cell_type": "code",
      "execution_count": null,
      "metadata": {
        "id": "XYQT6zXvYBtq"
      },
      "outputs": [],
      "source": [
        "from keras.models import Sequential\n",
        "import tensorflow as tf\n",
        "\n",
        "import tensorflow_datasets as tfds\n"
      ]
    },
    {
      "cell_type": "code",
      "execution_count": null,
      "metadata": {
        "colab": {
          "base_uri": "https://localhost:8080/"
        },
        "id": "ABRLbQ4RZH3z",
        "outputId": "a05808e2-3f8a-4936-ddea-25f63d3aa5e6"
      },
      "outputs": [
        {
          "name": "stdout",
          "output_type": "stream",
          "text": [
            "Looking in indexes: https://pypi.org/simple, https://us-python.pkg.dev/colab-wheels/public/simple/\n",
            "Collecting theano\n",
            "  Downloading Theano-1.0.5.tar.gz (2.8 MB)\n",
            "\u001b[2K     \u001b[90m━━━━━━━━━━━━━━━━━━━━━━━━━━━━━━━━━━━━━━━━\u001b[0m \u001b[32m2.8/2.8 MB\u001b[0m \u001b[31m59.5 MB/s\u001b[0m eta \u001b[36m0:00:00\u001b[0m\n",
            "\u001b[?25h  Preparing metadata (setup.py) ... \u001b[?25l\u001b[?25hdone\n",
            "Requirement already satisfied: numpy>=1.9.1 in /usr/local/lib/python3.8/dist-packages (from theano) (1.21.6)\n",
            "Requirement already satisfied: scipy>=0.14 in /usr/local/lib/python3.8/dist-packages (from theano) (1.7.3)\n",
            "Requirement already satisfied: six>=1.9.0 in /usr/local/lib/python3.8/dist-packages (from theano) (1.15.0)\n",
            "Building wheels for collected packages: theano\n",
            "  Building wheel for theano (setup.py) ... \u001b[?25l\u001b[?25hdone\n",
            "  Created wheel for theano: filename=Theano-1.0.5-py3-none-any.whl size=2668112 sha256=94641ccbab74c1d9d71f25e952f46b7684f655b497b6ca969240f155f5734631\n",
            "  Stored in directory: /root/.cache/pip/wheels/84/cb/19/235b5b10d89b4621f685112f8762681570a9fa14dc1ce904d9\n",
            "Successfully built theano\n",
            "Installing collected packages: theano\n",
            "Successfully installed theano-1.0.5\n"
          ]
        }
      ],
      "source": [
        "!pip install theano"
      ]
    },
    {
      "cell_type": "code",
      "execution_count": null,
      "metadata": {
        "id": "O44Og7ZGWjQ2"
      },
      "outputs": [],
      "source": [
        "from keras.layers.core import Dense, Activation, Dropout, Flatten\n",
        "from keras.layers.convolutional import Convolution2D, MaxPooling2D\n",
        "from tensorflow.keras.optimizers import SGD, RMSprop\n",
        "from keras.utils import np_utils\n",
        "from sklearn.tree import DecisionTreeClassifier # Import Decision Tree Classifier\n",
        "from sklearn.utils import shuffle\n",
        "from sklearn.model_selection import train_test_split\n",
        "import matplotlib.pyplot as plt\n",
        "import numpy as np\n",
        "import os\n",
        "import cv2\n",
        "from numpy import *\n",
        "from PIL import Image\n",
        "from theano import *\n",
        "import theano.tensor \n",
        "from keras.preprocessing.image import ImageDataGenerator\n"
      ]
    },
    {
      "cell_type": "code",
      "execution_count": null,
      "metadata": {
        "colab": {
          "base_uri": "https://localhost:8080/"
        },
        "id": "CODSHx8bXQwM",
        "outputId": "13d3a009-bd76-405c-e736-fff2fa1b4bff"
      },
      "outputs": [
        {
          "output_type": "stream",
          "name": "stdout",
          "text": [
            "Mounted at /content/drive\n"
          ]
        }
      ],
      "source": [
        "from google.colab import drive\n",
        "drive.mount('/content/drive')"
      ]
    },
    {
      "cell_type": "code",
      "execution_count": null,
      "metadata": {
        "id": "ISuvaoy3ZXzJ"
      },
      "outputs": [],
      "source": [
        "path_test = \"/content/drive/MyDrive/mri-image-unzipdata/Alzheimer_s Dataset/train\""
      ]
    },
    {
      "cell_type": "code",
      "execution_count": null,
      "metadata": {
        "colab": {
          "base_uri": "https://localhost:8080/",
          "height": 350
        },
        "id": "nWamqXyYn7KC",
        "outputId": "423323b1-cdc4-4375-8257-b206e9792b2e"
      },
      "outputs": [
        {
          "data": {
            "image/png": "[encoded data removed]",
            "text/plain": [
              "<Figure size 720x360 with 1 Axes>"
            ]
          },
          "metadata": {},
          "output_type": "display_data"
        }
      ],
      "source": [
        "import numpy as np\n",
        "import matplotlib.pyplot as plt\n",
        " \n",
        "# creating the dataset\n",
        "data = {'MildDemented':717, 'ModerateDemented':52, 'NonDemented':2560,\n",
        "        'VeryMildDemented':1760}\n",
        "courses = list(data.keys())\n",
        "values = list(data.values())\n",
        "  \n",
        "fig = plt.figure(figsize = (10, 5))\n",
        " \n",
        "# creating the bar plot\n",
        "plt.bar(courses, values, color ='green',\n",
        "        width = 0.4)\n",
        " \n",
        "plt.xlabel(\"Types of dementia\")\n",
        "plt.ylabel(\"No. of image datasets\")\n",
        "plt.title(\"Trainning Images in different demetia levels\")\n",
        "plt.show()"
      ]
    },
    {
      "cell_type": "code",
      "execution_count": null,
      "metadata": {
        "id": "76OcQg_t9Jol"
      },
      "outputs": [],
      "source": [
        "CATEGORIES = ['MildDemented', 'ModerateDemented', 'NonDemented', 'VeryMildDemented']\n",
        "DATADIR =\"/content/drive/MyDrive/mri-image-unzipdata/Alzheimer_s Dataset/train\""
      ]
    },
    {
      "cell_type": "code",
      "execution_count": null,
      "metadata": {
        "id": "eHVqYY6_9k7L"
      },
      "outputs": [],
      "source": [
        "import os\n",
        "import matplotlib.pyplot as plt\n",
        "import numpy as np\n",
        "from skimage.io import imread\n",
        "from skimage.transform import resize\n",
        "target = []\n",
        "images = []\n",
        "flat_data = []"
      ]
    },
    {
      "cell_type": "code",
      "execution_count": null,
      "metadata": {
        "colab": {
          "base_uri": "https://localhost:8080/",
          "height": 269
        },
        "id": "RSpraUU49bHT",
        "outputId": "d168722b-71b6-404c-a4c7-8eb30cac652d"
      },
      "outputs": [
        {
          "data": {
            "image/png": "[encoded data removed]",
            "text/plain": [
              "<Figure size 432x288 with 1 Axes>"
            ]
          },
          "metadata": {},
          "output_type": "display_data"
        }
      ],
      "source": [
        "for category in CATEGORIES:\n",
        "  class_num = CATEGORIES.index(category)\n",
        "  path = os.path.join(DATADIR,category)\n",
        "  for img in os.listdir(path):\n",
        "    img_array = imread(os.path.join(path,img))\n",
        "    #print(img_array.shape)\n",
        "    plt.imshow(img_array)\n",
        "    img_resized = resize(img_array,(150,150,3))\n",
        "    flat_data.append(img_resized.flatten())\n",
        "    images.append(img_resized)\n",
        "    target.append(class_num)\n",
        "\n",
        "flat_data = np.array(flat_data)\n",
        "target = np.array(target)\n",
        "images = np.array(images)"
      ]
    },
    {
      "cell_type": "code",
      "execution_count": null,
      "metadata": {
        "id": "WKX8Qp5r9v-G"
      },
      "outputs": [],
      "source": [
        "from sklearn.model_selection import train_test_split\n",
        "x_train,x_test,y_train,y_test = train_test_split(flat_data,target,\n",
        "                                  test_size=0.3,random_state=109)"
      ]
    },
    {
      "cell_type": "code",
      "execution_count": null,
      "metadata": {
        "colab": {
          "background_save": true,
          "base_uri": "https://localhost:8080/"
        },
        "id": "7Y2-wj_y93JC",
        "outputId": "1fa0592d-fed4-46c5-bed2-49fe92ae564c"
      },
      "outputs": [
        {
          "name": "stdout",
          "output_type": "stream",
          "text": [
            "Fitting 5 folds for each of 3 candidates, totalling 15 fits\n",
            "[CV 1/5] END ..............C=0.1, kernel=linear;, score=0.950 total time=11.6min\n",
            "[CV 2/5] END ..............C=0.1, kernel=linear;, score=0.955 total time=11.6min\n"
          ]
        }
      ],
      "source": [
        "from sklearn import svm\n",
        "from sklearn.model_selection import GridSearchCV\n",
        "param_grid = [\n",
        "  {'C': [0.1,1,10], 'kernel': ['linear']},\n",
        " ]\n",
        "svc = svm.SVC(probability=True)\n",
        "classifier = GridSearchCV(svc, param_grid, verbose = 3)\n",
        "classifier.fit(x_train, y_train)"
      ]
    },
    {
      "cell_type": "code",
      "execution_count": null,
      "metadata": {
        "id": "Tp1rRIpn-lsy"
      },
      "outputs": [],
      "source": [
        "y_pred = classifier.predict(x_test)"
      ]
    },
    {
      "cell_type": "code",
      "execution_count": null,
      "metadata": {
        "id": "Or0a1OLP-zwk"
      },
      "outputs": [],
      "source": [
        "from sklearn.metrics import classification_report, confusion_matrix\n",
        "print(classification_report(y_test,y_pred, target_names=CATEGORIES))"
      ]
    },
    {
      "cell_type": "code",
      "execution_count": null,
      "metadata": {
        "id": "mesmYysT-8f5"
      },
      "outputs": [],
      "source": [
        "cm_svm =confusion_matrix(y_pred,y_test)\n",
        "cm_svm_df = pd.DataFrame(cm_svm,\n",
        "                     index = ['MildDemented', 'ModerateDemented', 'NonDemented', 'VeryMildDemented'], \n",
        "                     columns = ['MildDemented', 'ModerateDemented', 'NonDemented', 'VeryMildDemented'])"
      ]
    },
    {
      "cell_type": "code",
      "execution_count": null,
      "metadata": {
        "id": "YEi3ExGg_0Fh"
      },
      "outputs": [],
      "source": [
        "import seaborn as sns\n",
        "\n",
        "plt.figure(figsize=(5,4))\n",
        "sns.heatmap(cm_svm_df, annot=True,fmt='g')\n",
        "plt.title('Confusion Matrix')\n",
        "plt.ylabel('Actal Values')\n",
        "plt.xlabel('Predicted Values')\n",
        "plt.show()"
      ]
    },
    {
      "cell_type": "code",
      "execution_count": null,
      "metadata": {
        "id": "gbPmFFEYA_7F"
      },
      "outputs": [],
      "source": [
        "from sklearn.ensemble import RandomForestClassifier\n",
        "from sklearn.naive_bayes import GaussianNB\n",
        "\n",
        "rf_100 = RandomForestClassifier(max_features=5, n_estimators=100)\n",
        "rf_100.fit(x_train, y_train)"
      ]
    },
    {
      "cell_type": "code",
      "execution_count": null,
      "metadata": {
        "id": "9VkcjnyRBNSY"
      },
      "outputs": [],
      "source": [
        "y_pred_rbf= rf_100.predict(x_test)"
      ]
    },
    {
      "cell_type": "code",
      "execution_count": null,
      "metadata": {
        "id": "smG6oimuZjXZ"
      },
      "outputs": [],
      "source": [
        "import tensorflow as tf\n",
        "import numpy as np\n",
        "import matplotlib.pyplot as plt\n",
        "from sklearn.metrics import classification_report, confusion_matrix\n",
        "import seaborn as sn\n",
        "from tensorflow.keras import backend as K\n",
        "from tensorflow.keras.models import Sequential, Model, load_model\n",
        "from tensorflow.keras.layers import Dense, Flatten, Dropout, Activation, Conv2D, MaxPooling2D, LeakyReLU\n",
        "from tensorflow.keras.callbacks import TensorBoard\n",
        "import pickle\n",
        "from PIL import Image\n",
        "import time\n",
        "import os\n",
        "from PIL import Image\n",
        "from tensorflow.keras.regularizers import l2\n",
        "from sklearn.model_selection import train_test_split"
      ]
    },
    {
      "cell_type": "code",
      "execution_count": null,
      "metadata": {
        "id": "zCrkY5xiajyB"
      },
      "outputs": [],
      "source": [
        "IMAGE_SIZE = [176,208]               # input image dimensions                                              (176,208)\n",
        "BATCH_SIZE = 5000\n",
        "test_split_percent = .1       # % of total data for testing                                         .1\n",
        "validation_split_percent = .2 # % of total data for validation                                      .2\n",
        "zoom = [.99,1.01]             # zoom range (for a fixed zoom put the same value in both parameters)[.99,1.01]\n",
        "bright_range = [.8,1.2]       # brightness range                                                    [.8,1.2] \n",
        "layers_unlocked = True        # unlock the imported pre-training layers?                            False  \n",
        "lr = 0.01                   # learning rate for optimizer                                         0.0001\n",
        "batch = 20                    # batch size for model fitting                                        20\n",
        "EPOCHS = 50                     # number of epochs to run                                             50  "
      ]
    },
    {
      "cell_type": "code",
      "execution_count": null,
      "metadata": {
        "colab": {
          "base_uri": "https://localhost:8080/"
        },
        "id": "Xkl6-SoBaumq",
        "outputId": "e3c3413d-d321-4743-e48c-41beab7f1685"
      },
      "outputs": [
        {
          "output_type": "stream",
          "name": "stdout",
          "text": [
            "Found 5121 images belonging to 4 classes.\n",
            "Found 1279 images belonging to 4 classes.\n"
          ]
        }
      ],
      "source": [
        "train_dr = tf.keras.preprocessing.image.ImageDataGenerator(rescale=1./255)\n",
        "\n",
        "train_data_gen = train_dr.flow_from_directory(directory=\"/content/drive/MyDrive/mri-image-unzipdata/Alzheimer_s Dataset/train\",target_size=IMAGE_SIZE,\n",
        "                                              batch_size=BATCH_SIZE)\n",
        "\n",
        "# Change to zoom = [1,1] to use normal test data\n",
        "test_dr = tf.keras.preprocessing.image.ImageDataGenerator(rescale=1./255) \n",
        "test_data_gen = test_dr.flow_from_directory(directory=\"/content/drive/MyDrive/mri-image-unzipdata/Alzheimer_s Dataset/test\",target_size=IMAGE_SIZE,batch_size=BATCH_SIZE,\n",
        "                                           shuffle = False) # test data should not be shuffle"
      ]
    },
    {
      "cell_type": "code",
      "source": [
        "import pandas as pd\n",
        "import numpy as np \n",
        "import itertools\n",
        "import keras\n",
        "from sklearn import metrics\n",
        "from sklearn.metrics import confusion_matrix\n",
        "#from keras.preprocessing.image import ImageDataGenerator, img_to_array, load_img \n",
        "from keras.models import Sequential \n",
        "from keras import optimizers\n",
        "from keras.preprocessing import image\n",
        "from keras.layers import Dropout, Flatten, Dense \n",
        "from keras import applications \n",
        "from keras.layers import Softmax\n",
        "from keras.utils.np_utils import to_categorical \n",
        "import matplotlib.pyplot as plt \n",
        "import matplotlib.image as mpimg\n",
        "%matplotlib inline\n",
        "import math \n",
        "import datetime\n",
        "import time"
      ],
      "metadata": {
        "id": "jAl5-5TSVMFj"
      },
      "execution_count": null,
      "outputs": []
    },
    {
      "cell_type": "code",
      "source": [
        "top_model_weights_path = \"/content/drive/MyDrive/mri-image-unzipdata/bottleneck_fc_model.h5\"\n",
        "# loading up our datasets\n",
        "train_data_dir = \"/content/drive/MyDrive/mri-image-unzipdata/Alzheimer_s Dataset/train\" \n",
        "validation_data_dir = \"/content/drive/MyDrive/mri-image-unzipdata/Alzheimer_s Dataset/test\" \n",
        "test_data_dir = \"/content/drive/MyDrive/mri-image-unzipdata/Alzheimer_s Dataset/test\"\n",
        " \n",
        "# number of epochs to train top model \n",
        "epochs = 7 #this has been changed after multiple model run \n",
        "# batch size used by flow_from_directory and predict_generator \n",
        "batch_size = 10 "
      ],
      "metadata": {
        "id": "lbaJ6tPCWBk6"
      },
      "execution_count": null,
      "outputs": []
    },
    {
      "cell_type": "code",
      "source": [
        "vgg16 = keras.applications.VGG16(include_top=False, weights=\"imagenet\")\n",
        "datagen = tf.keras.preprocessing.image.ImageDataGenerator(rescale=1./255, validation_split=0.2)"
      ],
      "metadata": {
        "id": "ZYXgmS4TWn-O"
      },
      "execution_count": null,
      "outputs": []
    },
    {
      "cell_type": "code",
      "source": [
        "generator = datagen.flow_from_directory( \n",
        "    train_data_dir, \n",
        "    target_size=(208, 178), \n",
        "    batch_size=batch_size, \n",
        "    class_mode=None, \n",
        "    shuffle=False) \n",
        " \n",
        "nb_train_samples = len(generator.filenames) \n",
        "num_classes = len(generator.class_indices) \n",
        " \n",
        "predict_size_train = int(math.ceil(nb_train_samples / batch_size)) \n",
        " \n",
        "bottleneck_features_train = vgg16.predict_generator(generator, predict_size_train) \n",
        " \n",
        "np.save(\"bottleneck_features_train.npy\", bottleneck_features_train)"
      ],
      "metadata": {
        "colab": {
          "base_uri": "https://localhost:8080/"
        },
        "id": "_71bXJK5VcQM",
        "outputId": "7bc2b6af-4358-4896-c0d7-8e5dfef38ac8"
      },
      "execution_count": null,
      "outputs": [
        {
          "output_type": "stream",
          "name": "stdout",
          "text": [
            "Found 5121 images belonging to 4 classes.\n"
          ]
        },
        {
          "output_type": "stream",
          "name": "stderr",
          "text": [
            "<ipython-input-23-0b46cf4bff81>:13: UserWarning: `Model.predict_generator` is deprecated and will be removed in a future version. Please use `Model.predict`, which supports generators.\n",
            "  bottleneck_features_train = vgg16.predict_generator(generator, predict_size_train)\n"
          ]
        }
      ]
    },
    {
      "cell_type": "code",
      "source": [
        "generator_top = datagen.flow_from_directory( \n",
        "   train_data_dir, \n",
        "   target_size=(208, 178), \n",
        "   batch_size=32, \n",
        "   class_mode=\"categorical\", \n",
        "   shuffle=False,\n",
        "   ) \n",
        " \n",
        "nb_train_samples = len(generator_top.filenames) \n",
        "num_classes = len(generator_top.class_indices) \n",
        " \n",
        "# load the bottleneck features saved earlier \n",
        "train_data = np.load(\"bottleneck_features_train.npy\") \n",
        " \n",
        "# get the class labels for the training data, in the original order \n",
        "train_labels = generator_top.classes \n",
        " \n",
        "# convert the training labels to categorical vectors \n",
        "train_labels = to_categorical(train_labels, num_classes=num_classes)"
      ],
      "metadata": {
        "colab": {
          "base_uri": "https://localhost:8080/"
        },
        "id": "ejPtm53FYHys",
        "outputId": "9fb73649-2cba-4a1a-cd83-4bb6a2fae873"
      },
      "execution_count": null,
      "outputs": [
        {
          "output_type": "stream",
          "name": "stdout",
          "text": [
            "Found 5121 images belonging to 4 classes.\n"
          ]
        }
      ]
    },
    {
      "cell_type": "code",
      "source": [
        "generator_top = datagen.flow_from_directory( \n",
        "   test_data_dir, \n",
        "   target_size=(208, 178), \n",
        "   batch_size=32, \n",
        "   class_mode=\"categorical\", \n",
        "   shuffle=False) \n",
        " \n",
        "nb_train_samples = len(generator_top.filenames) \n",
        "num_classes = len(generator_top.class_indices) \n",
        " \n",
        "# load the bottleneck features saved earlier \n",
        "test_data = np.load(\"bottleneck_features_train.npy\") \n",
        " \n",
        "# get the class labels for the training data, in the original order \n",
        "test_labels = generator_top.classes \n",
        " \n",
        "# convert the training labels to categorical vectors \n",
        "test_labels = to_categorical(test_labels, num_classes=num_classes)"
      ],
      "metadata": {
        "colab": {
          "base_uri": "https://localhost:8080/"
        },
        "id": "aX9Tf3PtkgiK",
        "outputId": "1eb6b074-525e-4ff7-d823-f733b74e80b2"
      },
      "execution_count": null,
      "outputs": [
        {
          "output_type": "stream",
          "name": "stdout",
          "text": [
            "Found 1279 images belonging to 4 classes.\n"
          ]
        }
      ]
    },
    {
      "cell_type": "code",
      "source": [
        "train_datagen = tf.keras.preprocessing.image.ImageDataGenerator(rescale = 1./255,\n",
        "                                   validation_split = 0.2,\n",
        "                                  \n",
        "        rotation_range=5,\n",
        "        width_shift_range=0.2,\n",
        "        height_shift_range=0.2,\n",
        "        #shear_range=0.2,\n",
        "        zoom_range=0.2,\n",
        "        horizontal_flip=True,\n",
        "        vertical_flip=True,\n",
        "        fill_mode='nearest')\n",
        "\n",
        "valid_datagen = tf.keras.preprocessing.image.ImageDataGenerator(rescale = 1./255,\n",
        "                                  validation_split = 0.9)\n",
        "\n",
        "test_datagen  = tf.keras.preprocessing.image.ImageDataGenerator(rescale = 1./255\n",
        "                                  )"
      ],
      "metadata": {
        "id": "J4YYpsyAVp_S"
      },
      "execution_count": null,
      "outputs": []
    },
    {
      "cell_type": "code",
      "source": [
        "train_data,train_labels =  train_data_gen.next()\n",
        "test_data,test_labels = test_data_gen.next()\n",
        "validate_data, validate_labels = validate_data_gen.next()"
      ],
      "metadata": {
        "id": "PrLinZ2lqTEF"
      },
      "execution_count": null,
      "outputs": []
    },
    {
      "cell_type": "code",
      "source": [
        "train_data_gen  = train_datagen.flow_from_directory(directory = '/content/drive/MyDrive/mri-image-unzipdata/Alzheimer_s Dataset/train',\n",
        "                                                   target_size = (224,224),\n",
        "                                                   class_mode = 'categorical',\n",
        "                                                   subset = 'training',\n",
        "                                                   batch_size = 32)"
      ],
      "metadata": {
        "colab": {
          "base_uri": "https://localhost:8080/"
        },
        "id": "1t_HYaq7Vjss",
        "outputId": "40c7112e-75c8-48bf-998a-555aaa28dd97"
      },
      "execution_count": null,
      "outputs": [
        {
          "output_type": "stream",
          "name": "stdout",
          "text": [
            "Found 4098 images belonging to 4 classes.\n"
          ]
        }
      ]
    },
    {
      "cell_type": "code",
      "source": [
        "validate_data_gen  = valid_datagen.flow_from_directory(directory = '/content/drive/MyDrive/mri-image-unzipdata/Alzheimer_s Dataset/train',\n",
        "                                                   target_size = (224,224),\n",
        "                                                   class_mode = 'categorical',\n",
        "                                                   subset = 'training',\n",
        "                                                   batch_size = 32)"
      ],
      "metadata": {
        "colab": {
          "base_uri": "https://localhost:8080/"
        },
        "id": "77seiU0UqfIO",
        "outputId": "df9271f6-643f-42f4-9864-0dc132930768"
      },
      "execution_count": null,
      "outputs": [
        {
          "output_type": "stream",
          "name": "stdout",
          "text": [
            "Found 514 images belonging to 4 classes.\n"
          ]
        }
      ]
    },
    {
      "cell_type": "code",
      "source": [
        "test_data_gen  = test_datagen.flow_from_directory(directory = '/content/drive/MyDrive/mri-image-unzipdata/Alzheimer_s Dataset/test',\n",
        "                                                   target_size = (224,224),\n",
        "                                                   class_mode = 'categorical',\n",
        "                                                   subset = 'training',\n",
        "                                                   batch_size = 32)"
      ],
      "metadata": {
        "colab": {
          "base_uri": "https://localhost:8080/"
        },
        "id": "IJLD-HYVrCOt",
        "outputId": "e5ff417c-172d-45c3-fd3e-55f2c953d498"
      },
      "execution_count": null,
      "outputs": [
        {
          "output_type": "stream",
          "name": "stdout",
          "text": [
            "Found 1279 images belonging to 4 classes.\n"
          ]
        }
      ]
    },
    {
      "cell_type": "code",
      "execution_count": null,
      "metadata": {
        "id": "uKJjcww2bqUa",
        "colab": {
          "base_uri": "https://localhost:8080/"
        },
        "outputId": "406ab20a-d1a4-4ce0-83c3-6900a55a56cc"
      },
      "outputs": [
        {
          "output_type": "stream",
          "name": "stdout",
          "text": [
            "Epoch 1/250\n",
            "2/2 [==============================] - 1s 178ms/step - loss: 11.7123 - acc: 0.2812 - val_loss: 11.0542 - val_acc: 0.2812\n",
            "Epoch 2/250\n",
            "2/2 [==============================] - 0s 46ms/step - loss: 20.0717 - acc: 0.2188 - val_loss: 4.0299 - val_acc: 0.2812\n",
            "Epoch 3/250\n",
            "2/2 [==============================] - 0s 40ms/step - loss: 24.0765 - acc: 0.3438 - val_loss: 6.4041 - val_acc: 0.5312\n",
            "Epoch 4/250\n",
            "2/2 [==============================] - 0s 44ms/step - loss: 23.9972 - acc: 0.4062 - val_loss: 8.4867 - val_acc: 0.2812\n",
            "Epoch 5/250\n",
            "2/2 [==============================] - 0s 41ms/step - loss: 19.3014 - acc: 0.4688 - val_loss: 15.6712 - val_acc: 0.2812\n",
            "Epoch 6/250\n",
            "2/2 [==============================] - 0s 48ms/step - loss: 21.2331 - acc: 0.5625 - val_loss: 20.2974 - val_acc: 0.2812\n",
            "Epoch 7/250\n",
            "2/2 [==============================] - 0s 46ms/step - loss: 23.4351 - acc: 0.3750 - val_loss: 20.0183 - val_acc: 0.2812\n",
            "Epoch 8/250\n",
            "2/2 [==============================] - 0s 41ms/step - loss: 40.1582 - acc: 0.3125 - val_loss: 16.8550 - val_acc: 0.2812\n",
            "Epoch 9/250\n",
            "2/2 [==============================] - 0s 46ms/step - loss: 21.8462 - acc: 0.5625 - val_loss: 12.7250 - val_acc: 0.2812\n",
            "Epoch 10/250\n",
            "2/2 [==============================] - 0s 41ms/step - loss: 23.7840 - acc: 0.3125 - val_loss: 5.9010 - val_acc: 0.2812\n",
            "Epoch 11/250\n",
            "2/2 [==============================] - 0s 39ms/step - loss: 24.4804 - acc: 0.3750 - val_loss: 2.3955 - val_acc: 0.3125\n",
            "Epoch 12/250\n",
            "2/2 [==============================] - 0s 42ms/step - loss: 15.5678 - acc: 0.4688 - val_loss: 3.5170 - val_acc: 0.3125\n",
            "Epoch 13/250\n",
            "2/2 [==============================] - 0s 39ms/step - loss: 19.5376 - acc: 0.5000 - val_loss: 6.3931 - val_acc: 0.2812\n",
            "Epoch 14/250\n",
            "2/2 [==============================] - 0s 42ms/step - loss: 17.8986 - acc: 0.5000 - val_loss: 9.3818 - val_acc: 0.2812\n",
            "Epoch 15/250\n",
            "2/2 [==============================] - 0s 39ms/step - loss: 12.5744 - acc: 0.4688 - val_loss: 12.3506 - val_acc: 0.2812\n",
            "Epoch 16/250\n",
            "2/2 [==============================] - 0s 38ms/step - loss: 22.3918 - acc: 0.3750 - val_loss: 13.1285 - val_acc: 0.2812\n",
            "Epoch 17/250\n",
            "2/2 [==============================] - 0s 42ms/step - loss: 18.1786 - acc: 0.4375 - val_loss: 13.1785 - val_acc: 0.2812\n",
            "Epoch 18/250\n",
            "2/2 [==============================] - 0s 40ms/step - loss: 16.8172 - acc: 0.3125 - val_loss: 12.9219 - val_acc: 0.2812\n",
            "Epoch 19/250\n",
            "2/2 [==============================] - 0s 46ms/step - loss: 14.7382 - acc: 0.6562 - val_loss: 12.1126 - val_acc: 0.2812\n",
            "Epoch 20/250\n",
            "2/2 [==============================] - 0s 87ms/step - loss: 11.8586 - acc: 0.5625 - val_loss: 11.7451 - val_acc: 0.2812\n",
            "Epoch 21/250\n",
            "2/2 [==============================] - 0s 51ms/step - loss: 16.8705 - acc: 0.3750 - val_loss: 14.3896 - val_acc: 0.2812\n",
            "Epoch 22/250\n",
            "2/2 [==============================] - 0s 41ms/step - loss: 12.6385 - acc: 0.5000 - val_loss: 16.6235 - val_acc: 0.2812\n",
            "Epoch 23/250\n",
            "2/2 [==============================] - 0s 39ms/step - loss: 8.4307 - acc: 0.5938 - val_loss: 17.3113 - val_acc: 0.2812\n",
            "Epoch 24/250\n",
            "2/2 [==============================] - 0s 39ms/step - loss: 12.6338 - acc: 0.5000 - val_loss: 17.2274 - val_acc: 0.2812\n",
            "Epoch 25/250\n",
            "2/2 [==============================] - 0s 48ms/step - loss: 18.8841 - acc: 0.5000 - val_loss: 15.5678 - val_acc: 0.2812\n",
            "Epoch 26/250\n",
            "2/2 [==============================] - 0s 40ms/step - loss: 10.7401 - acc: 0.5938 - val_loss: 14.6812 - val_acc: 0.2812\n",
            "Epoch 27/250\n",
            "2/2 [==============================] - 0s 41ms/step - loss: 9.1876 - acc: 0.6250 - val_loss: 13.3489 - val_acc: 0.2812\n",
            "Epoch 28/250\n",
            "2/2 [==============================] - 0s 39ms/step - loss: 7.3005 - acc: 0.6875 - val_loss: 12.1793 - val_acc: 0.2812\n",
            "Epoch 29/250\n",
            "2/2 [==============================] - 0s 55ms/step - loss: 15.8831 - acc: 0.5625 - val_loss: 11.2651 - val_acc: 0.2812\n",
            "Epoch 30/250\n",
            "2/2 [==============================] - 0s 65ms/step - loss: 10.9390 - acc: 0.5938 - val_loss: 9.9731 - val_acc: 0.2812\n",
            "Epoch 31/250\n",
            "2/2 [==============================] - 0s 61ms/step - loss: 12.5018 - acc: 0.5938 - val_loss: 7.6286 - val_acc: 0.2812\n",
            "Epoch 32/250\n",
            "2/2 [==============================] - 0s 69ms/step - loss: 14.6349 - acc: 0.4688 - val_loss: 6.8611 - val_acc: 0.2812\n",
            "Epoch 33/250\n",
            "2/2 [==============================] - 0s 68ms/step - loss: 5.3875 - acc: 0.6562 - val_loss: 7.4146 - val_acc: 0.2812\n",
            "Epoch 34/250\n",
            "2/2 [==============================] - 0s 80ms/step - loss: 15.0300 - acc: 0.4688 - val_loss: 8.8057 - val_acc: 0.2812\n",
            "Epoch 35/250\n",
            "2/2 [==============================] - 0s 64ms/step - loss: 7.4797 - acc: 0.6562 - val_loss: 12.0588 - val_acc: 0.2812\n",
            "Epoch 36/250\n",
            "2/2 [==============================] - 0s 56ms/step - loss: 7.1791 - acc: 0.6875 - val_loss: 14.9529 - val_acc: 0.2812\n",
            "Epoch 37/250\n",
            "2/2 [==============================] - 0s 58ms/step - loss: 9.5688 - acc: 0.5938 - val_loss: 16.6478 - val_acc: 0.2812\n",
            "Epoch 38/250\n",
            "2/2 [==============================] - 0s 72ms/step - loss: 9.9802 - acc: 0.6562 - val_loss: 19.0646 - val_acc: 0.2812\n",
            "Epoch 39/250\n",
            "2/2 [==============================] - 0s 56ms/step - loss: 12.4360 - acc: 0.5312 - val_loss: 18.5183 - val_acc: 0.2812\n",
            "Epoch 40/250\n",
            "2/2 [==============================] - 0s 50ms/step - loss: 8.9270 - acc: 0.6250 - val_loss: 18.7393 - val_acc: 0.2812\n",
            "Epoch 41/250\n",
            "2/2 [==============================] - 0s 39ms/step - loss: 5.7569 - acc: 0.7812 - val_loss: 17.0989 - val_acc: 0.2812\n",
            "Epoch 42/250\n",
            "2/2 [==============================] - 0s 50ms/step - loss: 4.5300 - acc: 0.7188 - val_loss: 14.8546 - val_acc: 0.2812\n",
            "Epoch 43/250\n",
            "2/2 [==============================] - 0s 40ms/step - loss: 9.9572 - acc: 0.5938 - val_loss: 14.0301 - val_acc: 0.2812\n",
            "Epoch 44/250\n",
            "2/2 [==============================] - 0s 47ms/step - loss: 5.8531 - acc: 0.7188 - val_loss: 13.6238 - val_acc: 0.2812\n",
            "Epoch 45/250\n",
            "2/2 [==============================] - 0s 46ms/step - loss: 12.4706 - acc: 0.5312 - val_loss: 14.5659 - val_acc: 0.2812\n",
            "Epoch 46/250\n",
            "2/2 [==============================] - 0s 40ms/step - loss: 3.3678 - acc: 0.7812 - val_loss: 15.2746 - val_acc: 0.2812\n",
            "Epoch 47/250\n",
            "2/2 [==============================] - 0s 53ms/step - loss: 6.7143 - acc: 0.7188 - val_loss: 15.4285 - val_acc: 0.2812\n",
            "Epoch 48/250\n",
            "2/2 [==============================] - 0s 46ms/step - loss: 8.4433 - acc: 0.6875 - val_loss: 13.1414 - val_acc: 0.2812\n",
            "Epoch 49/250\n",
            "2/2 [==============================] - 0s 38ms/step - loss: 2.0258 - acc: 0.8438 - val_loss: 10.5372 - val_acc: 0.2812\n",
            "Epoch 50/250\n",
            "2/2 [==============================] - 0s 39ms/step - loss: 5.2170 - acc: 0.6250 - val_loss: 9.2363 - val_acc: 0.2812\n",
            "Epoch 51/250\n",
            "2/2 [==============================] - 0s 42ms/step - loss: 3.4109 - acc: 0.7188 - val_loss: 9.8192 - val_acc: 0.2812\n",
            "Epoch 52/250\n",
            "2/2 [==============================] - 0s 47ms/step - loss: 6.1603 - acc: 0.7188 - val_loss: 10.4997 - val_acc: 0.2812\n",
            "Epoch 53/250\n",
            "2/2 [==============================] - 0s 43ms/step - loss: 3.8990 - acc: 0.6875 - val_loss: 13.5581 - val_acc: 0.2812\n",
            "Epoch 54/250\n",
            "2/2 [==============================] - 0s 41ms/step - loss: 4.4206 - acc: 0.7188 - val_loss: 15.5182 - val_acc: 0.2812\n",
            "Epoch 55/250\n",
            "2/2 [==============================] - 0s 39ms/step - loss: 5.6785 - acc: 0.7188 - val_loss: 16.7361 - val_acc: 0.2812\n",
            "Epoch 56/250\n",
            "2/2 [==============================] - 0s 43ms/step - loss: 6.4185 - acc: 0.6875 - val_loss: 16.6077 - val_acc: 0.2812\n",
            "Epoch 57/250\n",
            "2/2 [==============================] - 0s 40ms/step - loss: 6.8696 - acc: 0.6562 - val_loss: 17.1271 - val_acc: 0.2812\n",
            "Epoch 58/250\n",
            "2/2 [==============================] - 0s 40ms/step - loss: 12.0094 - acc: 0.5312 - val_loss: 16.9328 - val_acc: 0.2812\n",
            "Epoch 59/250\n",
            "2/2 [==============================] - 0s 41ms/step - loss: 5.8206 - acc: 0.7812 - val_loss: 17.1712 - val_acc: 0.2812\n",
            "Epoch 60/250\n",
            "2/2 [==============================] - 0s 42ms/step - loss: 3.3855 - acc: 0.7500 - val_loss: 16.5635 - val_acc: 0.2812\n",
            "Epoch 61/250\n",
            "2/2 [==============================] - 0s 46ms/step - loss: 6.9666 - acc: 0.7188 - val_loss: 16.5861 - val_acc: 0.2812\n",
            "Epoch 62/250\n",
            "2/2 [==============================] - 0s 40ms/step - loss: 8.8401 - acc: 0.5625 - val_loss: 17.5004 - val_acc: 0.2812\n",
            "Epoch 63/250\n",
            "2/2 [==============================] - 0s 46ms/step - loss: 3.2015 - acc: 0.7812 - val_loss: 18.5487 - val_acc: 0.2812\n",
            "Epoch 64/250\n",
            "2/2 [==============================] - 0s 49ms/step - loss: 8.2544 - acc: 0.7188 - val_loss: 17.2727 - val_acc: 0.2812\n",
            "Epoch 65/250\n",
            "2/2 [==============================] - 0s 39ms/step - loss: 7.5743 - acc: 0.7188 - val_loss: 14.5928 - val_acc: 0.2812\n",
            "Epoch 66/250\n",
            "2/2 [==============================] - 0s 46ms/step - loss: 6.0828 - acc: 0.6250 - val_loss: 12.3826 - val_acc: 0.2812\n",
            "Epoch 67/250\n",
            "2/2 [==============================] - 0s 41ms/step - loss: 3.7939 - acc: 0.8438 - val_loss: 11.7431 - val_acc: 0.2812\n",
            "Epoch 68/250\n",
            "2/2 [==============================] - 0s 42ms/step - loss: 1.8481 - acc: 0.7812 - val_loss: 12.1293 - val_acc: 0.2812\n",
            "Epoch 69/250\n",
            "2/2 [==============================] - 0s 40ms/step - loss: 6.0728 - acc: 0.7188 - val_loss: 13.5727 - val_acc: 0.2812\n",
            "Epoch 70/250\n",
            "2/2 [==============================] - 0s 42ms/step - loss: 4.1618 - acc: 0.8125 - val_loss: 16.2483 - val_acc: 0.2812\n",
            "Epoch 71/250\n",
            "2/2 [==============================] - 0s 40ms/step - loss: 2.4040 - acc: 0.7812 - val_loss: 18.0969 - val_acc: 0.2812\n",
            "Epoch 72/250\n",
            "2/2 [==============================] - 0s 47ms/step - loss: 1.7336 - acc: 0.8125 - val_loss: 18.9621 - val_acc: 0.2812\n",
            "Epoch 73/250\n",
            "2/2 [==============================] - 0s 39ms/step - loss: 2.8185 - acc: 0.7500 - val_loss: 18.8285 - val_acc: 0.2812\n",
            "Epoch 74/250\n",
            "2/2 [==============================] - 0s 40ms/step - loss: 6.5831 - acc: 0.7812 - val_loss: 18.4655 - val_acc: 0.2812\n",
            "Epoch 75/250\n",
            "2/2 [==============================] - 0s 41ms/step - loss: 6.3874 - acc: 0.6875 - val_loss: 19.1703 - val_acc: 0.2812\n",
            "Epoch 76/250\n",
            "2/2 [==============================] - 0s 47ms/step - loss: 5.5598 - acc: 0.6562 - val_loss: 23.3105 - val_acc: 0.2812\n",
            "Epoch 77/250\n",
            "2/2 [==============================] - 0s 40ms/step - loss: 2.3932 - acc: 0.8438 - val_loss: 26.3388 - val_acc: 0.2812\n",
            "Epoch 78/250\n",
            "2/2 [==============================] - 0s 39ms/step - loss: 4.7585 - acc: 0.8125 - val_loss: 25.8675 - val_acc: 0.2812\n",
            "Epoch 79/250\n",
            "2/2 [==============================] - 0s 42ms/step - loss: 1.2857 - acc: 0.8438 - val_loss: 26.0856 - val_acc: 0.2812\n",
            "Epoch 80/250\n",
            "2/2 [==============================] - 0s 58ms/step - loss: 7.2075 - acc: 0.6250 - val_loss: 25.8514 - val_acc: 0.2812\n",
            "Epoch 81/250\n",
            "2/2 [==============================] - 0s 46ms/step - loss: 4.7426 - acc: 0.7812 - val_loss: 23.5126 - val_acc: 0.2812\n",
            "Epoch 82/250\n",
            "2/2 [==============================] - 0s 44ms/step - loss: 7.1566 - acc: 0.6875 - val_loss: 19.5060 - val_acc: 0.2812\n",
            "Epoch 83/250\n",
            "2/2 [==============================] - 0s 47ms/step - loss: 5.4473 - acc: 0.8125 - val_loss: 15.2407 - val_acc: 0.2812\n",
            "Epoch 84/250\n",
            "2/2 [==============================] - 0s 42ms/step - loss: 3.1088 - acc: 0.7812 - val_loss: 11.5383 - val_acc: 0.2812\n",
            "Epoch 85/250\n",
            "2/2 [==============================] - 0s 43ms/step - loss: 2.7748 - acc: 0.7812 - val_loss: 12.5849 - val_acc: 0.2812\n",
            "Epoch 86/250\n",
            "2/2 [==============================] - 0s 43ms/step - loss: 2.1286 - acc: 0.8438 - val_loss: 16.0614 - val_acc: 0.2812\n",
            "Epoch 87/250\n",
            "2/2 [==============================] - 0s 43ms/step - loss: 2.0021 - acc: 0.8438 - val_loss: 19.3657 - val_acc: 0.2812\n",
            "Epoch 88/250\n",
            "2/2 [==============================] - 0s 43ms/step - loss: 7.3097 - acc: 0.6562 - val_loss: 20.4683 - val_acc: 0.2812\n",
            "Epoch 89/250\n",
            "2/2 [==============================] - 0s 41ms/step - loss: 2.3565 - acc: 0.8125 - val_loss: 20.7590 - val_acc: 0.2812\n",
            "Epoch 90/250\n",
            "2/2 [==============================] - 0s 45ms/step - loss: 2.5719 - acc: 0.8438 - val_loss: 21.5540 - val_acc: 0.2812\n",
            "Epoch 91/250\n",
            "2/2 [==============================] - 0s 40ms/step - loss: 2.5389 - acc: 0.8125 - val_loss: 20.5495 - val_acc: 0.2812\n",
            "Epoch 92/250\n",
            "2/2 [==============================] - 0s 41ms/step - loss: 6.4395 - acc: 0.6250 - val_loss: 19.3365 - val_acc: 0.2812\n",
            "Epoch 93/250\n",
            "2/2 [==============================] - 0s 42ms/step - loss: 3.1973 - acc: 0.8438 - val_loss: 16.1157 - val_acc: 0.2812\n",
            "Epoch 94/250\n",
            "2/2 [==============================] - 0s 41ms/step - loss: 0.9770 - acc: 0.8750 - val_loss: 13.5937 - val_acc: 0.2500\n",
            "Epoch 95/250\n",
            "2/2 [==============================] - 0s 39ms/step - loss: 3.8445 - acc: 0.8125 - val_loss: 13.9683 - val_acc: 0.2500\n",
            "Epoch 96/250\n",
            "2/2 [==============================] - 0s 51ms/step - loss: 2.8483 - acc: 0.7812 - val_loss: 17.2280 - val_acc: 0.2812\n",
            "Epoch 97/250\n",
            "2/2 [==============================] - 0s 40ms/step - loss: 4.6687 - acc: 0.8125 - val_loss: 21.2979 - val_acc: 0.2812\n",
            "Epoch 98/250\n",
            "2/2 [==============================] - 0s 40ms/step - loss: 1.1863 - acc: 0.8438 - val_loss: 23.3244 - val_acc: 0.2812\n",
            "Epoch 99/250\n",
            "2/2 [==============================] - 0s 46ms/step - loss: 3.5643 - acc: 0.7188 - val_loss: 22.3286 - val_acc: 0.2812\n",
            "Epoch 100/250\n",
            "2/2 [==============================] - 0s 44ms/step - loss: 3.2967 - acc: 0.7812 - val_loss: 20.6158 - val_acc: 0.2812\n",
            "Epoch 101/250\n",
            "2/2 [==============================] - 0s 40ms/step - loss: 6.2534 - acc: 0.7188 - val_loss: 21.6353 - val_acc: 0.2812\n",
            "Epoch 102/250\n",
            "2/2 [==============================] - 0s 41ms/step - loss: 1.2008 - acc: 0.9062 - val_loss: 22.0242 - val_acc: 0.2812\n",
            "Epoch 103/250\n",
            "2/2 [==============================] - 0s 51ms/step - loss: 3.1591 - acc: 0.8125 - val_loss: 21.6267 - val_acc: 0.2812\n",
            "Epoch 104/250\n",
            "2/2 [==============================] - 0s 41ms/step - loss: 3.0145 - acc: 0.8438 - val_loss: 21.3804 - val_acc: 0.2812\n",
            "Epoch 105/250\n",
            "2/2 [==============================] - 0s 40ms/step - loss: 1.9874 - acc: 0.8438 - val_loss: 21.7722 - val_acc: 0.2812\n",
            "Epoch 106/250\n",
            "2/2 [==============================] - 0s 38ms/step - loss: 2.4649 - acc: 0.8438 - val_loss: 22.8559 - val_acc: 0.2812\n",
            "Epoch 107/250\n",
            "2/2 [==============================] - 0s 39ms/step - loss: 6.5185 - acc: 0.7188 - val_loss: 23.9860 - val_acc: 0.2812\n",
            "Epoch 108/250\n",
            "2/2 [==============================] - 0s 44ms/step - loss: 2.2803 - acc: 0.9062 - val_loss: 22.9959 - val_acc: 0.2812\n",
            "Epoch 109/250\n",
            "2/2 [==============================] - 0s 41ms/step - loss: 3.5867 - acc: 0.7812 - val_loss: 19.4039 - val_acc: 0.2812\n",
            "Epoch 110/250\n",
            "2/2 [==============================] - 0s 41ms/step - loss: 6.7960 - acc: 0.7500 - val_loss: 17.9390 - val_acc: 0.2812\n",
            "Epoch 111/250\n",
            "2/2 [==============================] - 0s 45ms/step - loss: 1.4393 - acc: 0.8438 - val_loss: 16.6220 - val_acc: 0.2812\n",
            "Epoch 112/250\n",
            "2/2 [==============================] - 0s 47ms/step - loss: 2.1879 - acc: 0.7188 - val_loss: 15.3908 - val_acc: 0.2812\n",
            "Epoch 113/250\n",
            "2/2 [==============================] - 0s 46ms/step - loss: 2.2178 - acc: 0.8438 - val_loss: 15.5084 - val_acc: 0.2812\n",
            "Epoch 114/250\n",
            "2/2 [==============================] - 0s 42ms/step - loss: 6.6916 - acc: 0.6875 - val_loss: 19.9614 - val_acc: 0.2812\n",
            "Epoch 115/250\n",
            "2/2 [==============================] - 0s 41ms/step - loss: 2.3987 - acc: 0.8438 - val_loss: 24.6609 - val_acc: 0.2812\n",
            "Epoch 116/250\n",
            "2/2 [==============================] - 0s 48ms/step - loss: 5.5912 - acc: 0.7812 - val_loss: 25.6129 - val_acc: 0.2812\n",
            "Epoch 117/250\n",
            "2/2 [==============================] - 0s 51ms/step - loss: 1.4997 - acc: 0.8438 - val_loss: 29.6080 - val_acc: 0.2812\n",
            "Epoch 118/250\n",
            "2/2 [==============================] - 0s 51ms/step - loss: 2.6711 - acc: 0.8438 - val_loss: 31.9493 - val_acc: 0.2812\n",
            "Epoch 119/250\n",
            "2/2 [==============================] - 0s 43ms/step - loss: 4.5591 - acc: 0.7500 - val_loss: 31.0342 - val_acc: 0.2812\n",
            "Epoch 120/250\n",
            "2/2 [==============================] - 0s 40ms/step - loss: 1.1931 - acc: 0.8438 - val_loss: 28.6462 - val_acc: 0.2812\n",
            "Epoch 121/250\n",
            "2/2 [==============================] - 0s 47ms/step - loss: 1.9099 - acc: 0.8125 - val_loss: 26.3150 - val_acc: 0.2812\n",
            "Epoch 122/250\n",
            "2/2 [==============================] - 0s 42ms/step - loss: 0.8679 - acc: 0.9062 - val_loss: 25.1542 - val_acc: 0.2812\n",
            "Epoch 123/250\n",
            "2/2 [==============================] - 0s 45ms/step - loss: 2.9746 - acc: 0.7812 - val_loss: 22.8721 - val_acc: 0.2812\n",
            "Epoch 124/250\n",
            "2/2 [==============================] - 0s 43ms/step - loss: 7.0228 - acc: 0.7188 - val_loss: 20.1414 - val_acc: 0.2812\n",
            "Epoch 125/250\n",
            "2/2 [==============================] - 0s 40ms/step - loss: 2.9375 - acc: 0.8750 - val_loss: 18.6334 - val_acc: 0.2812\n",
            "Epoch 126/250\n",
            "2/2 [==============================] - 0s 43ms/step - loss: 5.7635 - acc: 0.7812 - val_loss: 16.0331 - val_acc: 0.2812\n",
            "Epoch 127/250\n",
            "2/2 [==============================] - 0s 39ms/step - loss: 4.4766 - acc: 0.8125 - val_loss: 19.0043 - val_acc: 0.2812\n",
            "Epoch 128/250\n",
            "2/2 [==============================] - 0s 47ms/step - loss: 1.9797 - acc: 0.8750 - val_loss: 26.4938 - val_acc: 0.2812\n",
            "Epoch 129/250\n",
            "2/2 [==============================] - 0s 53ms/step - loss: 2.1002 - acc: 0.8750 - val_loss: 30.8617 - val_acc: 0.2812\n",
            "Epoch 130/250\n",
            "2/2 [==============================] - 0s 42ms/step - loss: 4.4772 - acc: 0.8438 - val_loss: 32.3811 - val_acc: 0.2812\n",
            "Epoch 131/250\n",
            "2/2 [==============================] - 0s 41ms/step - loss: 3.7533 - acc: 0.8125 - val_loss: 33.3651 - val_acc: 0.2812\n",
            "Epoch 132/250\n",
            "2/2 [==============================] - 0s 52ms/step - loss: 3.9916 - acc: 0.7812 - val_loss: 34.2716 - val_acc: 0.2812\n",
            "Epoch 133/250\n",
            "2/2 [==============================] - 0s 42ms/step - loss: 0.7749 - acc: 0.9375 - val_loss: 34.0862 - val_acc: 0.2812\n",
            "Epoch 134/250\n",
            "2/2 [==============================] - 0s 40ms/step - loss: 4.9967 - acc: 0.7812 - val_loss: 32.4518 - val_acc: 0.2812\n",
            "Epoch 135/250\n",
            "2/2 [==============================] - 0s 42ms/step - loss: 1.4921 - acc: 0.9062 - val_loss: 30.5361 - val_acc: 0.2812\n",
            "Epoch 136/250\n",
            "2/2 [==============================] - 0s 46ms/step - loss: 6.1837 - acc: 0.7812 - val_loss: 26.9246 - val_acc: 0.2812\n",
            "Epoch 137/250\n",
            "2/2 [==============================] - 0s 40ms/step - loss: 0.8286 - acc: 0.9062 - val_loss: 24.7748 - val_acc: 0.2812\n",
            "Epoch 138/250\n",
            "2/2 [==============================] - 0s 42ms/step - loss: 1.3150 - acc: 0.8750 - val_loss: 22.7771 - val_acc: 0.2812\n",
            "Epoch 139/250\n",
            "2/2 [==============================] - 0s 40ms/step - loss: 6.6396 - acc: 0.8438 - val_loss: 21.7835 - val_acc: 0.2812\n",
            "Epoch 140/250\n",
            "2/2 [==============================] - 0s 43ms/step - loss: 0.7379 - acc: 0.8750 - val_loss: 21.5063 - val_acc: 0.2812\n",
            "Epoch 141/250\n",
            "2/2 [==============================] - 0s 44ms/step - loss: 3.8437 - acc: 0.8125 - val_loss: 23.3958 - val_acc: 0.2812\n",
            "Epoch 142/250\n",
            "2/2 [==============================] - 0s 43ms/step - loss: 1.6657 - acc: 0.8750 - val_loss: 26.2810 - val_acc: 0.2812\n",
            "Epoch 143/250\n",
            "2/2 [==============================] - 0s 44ms/step - loss: 0.2655 - acc: 0.9375 - val_loss: 29.4003 - val_acc: 0.2812\n",
            "Epoch 144/250\n",
            "2/2 [==============================] - 0s 49ms/step - loss: 1.1652 - acc: 0.8750 - val_loss: 33.3397 - val_acc: 0.2812\n",
            "Epoch 145/250\n",
            "2/2 [==============================] - 0s 53ms/step - loss: 2.4612 - acc: 0.8125 - val_loss: 35.0948 - val_acc: 0.2812\n",
            "Epoch 146/250\n",
            "2/2 [==============================] - 0s 54ms/step - loss: 2.2932 - acc: 0.8750 - val_loss: 34.0395 - val_acc: 0.2812\n",
            "Epoch 147/250\n",
            "2/2 [==============================] - 0s 43ms/step - loss: 2.1400 - acc: 0.8750 - val_loss: 30.8721 - val_acc: 0.2812\n",
            "Epoch 148/250\n",
            "2/2 [==============================] - 0s 45ms/step - loss: 0.8065 - acc: 0.9375 - val_loss: 27.3023 - val_acc: 0.2812\n",
            "Epoch 149/250\n",
            "2/2 [==============================] - 0s 41ms/step - loss: 3.6216 - acc: 0.8438 - val_loss: 25.3129 - val_acc: 0.2812\n",
            "Epoch 150/250\n",
            "2/2 [==============================] - 0s 47ms/step - loss: 1.7286 - acc: 0.8438 - val_loss: 24.0319 - val_acc: 0.2812\n",
            "Epoch 151/250\n",
            "2/2 [==============================] - 0s 47ms/step - loss: 1.4632 - acc: 0.9062 - val_loss: 25.3849 - val_acc: 0.2812\n",
            "Epoch 152/250\n",
            "2/2 [==============================] - 0s 40ms/step - loss: 2.5400 - acc: 0.8750 - val_loss: 28.2230 - val_acc: 0.2812\n",
            "Epoch 153/250\n",
            "2/2 [==============================] - 0s 48ms/step - loss: 0.6024 - acc: 0.9375 - val_loss: 30.9080 - val_acc: 0.2812\n",
            "Epoch 154/250\n",
            "2/2 [==============================] - 0s 48ms/step - loss: 2.7480 - acc: 0.8750 - val_loss: 33.8066 - val_acc: 0.2812\n",
            "Epoch 155/250\n",
            "2/2 [==============================] - 0s 42ms/step - loss: 1.0616 - acc: 0.9062 - val_loss: 36.0128 - val_acc: 0.2812\n",
            "Epoch 156/250\n",
            "2/2 [==============================] - 0s 42ms/step - loss: 0.2487 - acc: 0.9375 - val_loss: 37.8733 - val_acc: 0.2812\n",
            "Epoch 157/250\n",
            "2/2 [==============================] - 0s 42ms/step - loss: 0.4554 - acc: 0.9688 - val_loss: 39.2768 - val_acc: 0.2812\n",
            "Epoch 158/250\n",
            "2/2 [==============================] - 0s 43ms/step - loss: 0.0480 - acc: 0.9688 - val_loss: 40.8390 - val_acc: 0.2812\n",
            "Epoch 159/250\n",
            "2/2 [==============================] - 0s 42ms/step - loss: 1.8145 - acc: 0.9375 - val_loss: 41.3227 - val_acc: 0.2812\n",
            "Epoch 160/250\n",
            "2/2 [==============================] - 0s 48ms/step - loss: 1.3815 - acc: 0.9062 - val_loss: 39.7415 - val_acc: 0.2812\n",
            "Epoch 161/250\n",
            "2/2 [==============================] - 0s 44ms/step - loss: 1.0270 - acc: 0.9375 - val_loss: 38.7339 - val_acc: 0.2812\n",
            "Epoch 162/250\n",
            "2/2 [==============================] - 0s 40ms/step - loss: 0.5172 - acc: 0.9062 - val_loss: 40.9462 - val_acc: 0.2812\n",
            "Epoch 163/250\n",
            "2/2 [==============================] - 0s 51ms/step - loss: 1.7495 - acc: 0.8750 - val_loss: 39.2718 - val_acc: 0.2812\n",
            "Epoch 164/250\n",
            "2/2 [==============================] - 0s 48ms/step - loss: 0.1880 - acc: 0.9688 - val_loss: 34.4008 - val_acc: 0.2812\n",
            "Epoch 165/250\n",
            "2/2 [==============================] - 0s 41ms/step - loss: 0.3278 - acc: 0.9375 - val_loss: 30.6469 - val_acc: 0.2812\n",
            "Epoch 166/250\n",
            "2/2 [==============================] - 0s 42ms/step - loss: 0.3971 - acc: 0.9062 - val_loss: 27.8366 - val_acc: 0.2812\n",
            "Epoch 167/250\n",
            "2/2 [==============================] - 0s 41ms/step - loss: 1.2158 - acc: 0.9062 - val_loss: 26.7760 - val_acc: 0.2812\n",
            "Epoch 168/250\n",
            "2/2 [==============================] - 0s 40ms/step - loss: 1.2049 - acc: 0.8438 - val_loss: 25.5352 - val_acc: 0.2812\n",
            "Epoch 169/250\n",
            "2/2 [==============================] - 0s 45ms/step - loss: 0.3516 - acc: 0.9062 - val_loss: 25.8471 - val_acc: 0.2812\n",
            "Epoch 170/250\n",
            "2/2 [==============================] - 0s 44ms/step - loss: 2.8220 - acc: 0.8750 - val_loss: 27.0825 - val_acc: 0.2812\n",
            "Epoch 171/250\n",
            "2/2 [==============================] - 0s 43ms/step - loss: 1.1338 - acc: 0.8438 - val_loss: 28.0992 - val_acc: 0.2812\n",
            "Epoch 172/250\n",
            "2/2 [==============================] - 0s 42ms/step - loss: 1.2716 - acc: 0.8750 - val_loss: 29.9115 - val_acc: 0.2812\n",
            "Epoch 173/250\n",
            "2/2 [==============================] - 0s 42ms/step - loss: 2.9061 - acc: 0.9375 - val_loss: 30.5704 - val_acc: 0.2812\n",
            "Epoch 174/250\n",
            "2/2 [==============================] - 0s 44ms/step - loss: 1.2232 - acc: 0.9062 - val_loss: 31.3134 - val_acc: 0.2812\n",
            "Epoch 175/250\n",
            "2/2 [==============================] - 0s 55ms/step - loss: 0.2767 - acc: 0.9375 - val_loss: 34.0671 - val_acc: 0.2812\n",
            "Epoch 176/250\n",
            "2/2 [==============================] - 0s 42ms/step - loss: 3.3241 - acc: 0.8750 - val_loss: 38.0171 - val_acc: 0.2812\n",
            "Epoch 177/250\n",
            "2/2 [==============================] - 0s 43ms/step - loss: 0.4207 - acc: 0.9375 - val_loss: 41.4821 - val_acc: 0.2812\n",
            "Epoch 178/250\n",
            "2/2 [==============================] - 0s 42ms/step - loss: 0.2551 - acc: 0.9688 - val_loss: 44.9738 - val_acc: 0.2812\n",
            "Epoch 179/250\n",
            "2/2 [==============================] - 0s 43ms/step - loss: 4.0886 - acc: 0.9062 - val_loss: 46.4978 - val_acc: 0.2812\n",
            "Epoch 180/250\n",
            "2/2 [==============================] - 0s 50ms/step - loss: 2.2280 - acc: 0.9375 - val_loss: 42.6947 - val_acc: 0.2812\n",
            "Epoch 181/250\n",
            "2/2 [==============================] - 0s 41ms/step - loss: 1.3788 - acc: 0.8438 - val_loss: 36.3391 - val_acc: 0.2812\n",
            "Epoch 182/250\n",
            "2/2 [==============================] - 0s 43ms/step - loss: 1.1687 - acc: 0.9375 - val_loss: 29.7521 - val_acc: 0.2812\n",
            "Epoch 183/250\n",
            "2/2 [==============================] - 0s 41ms/step - loss: 1.9354 - acc: 0.9688 - val_loss: 23.6867 - val_acc: 0.2812\n",
            "Epoch 184/250\n",
            "2/2 [==============================] - 0s 41ms/step - loss: 1.3396 - acc: 0.7812 - val_loss: 19.8637 - val_acc: 0.2812\n",
            "Epoch 185/250\n",
            "2/2 [==============================] - 0s 40ms/step - loss: 0.6714 - acc: 0.8438 - val_loss: 18.2626 - val_acc: 0.2812\n",
            "Epoch 186/250\n",
            "2/2 [==============================] - 0s 40ms/step - loss: 1.2287 - acc: 0.8750 - val_loss: 18.3363 - val_acc: 0.2812\n",
            "Epoch 187/250\n",
            "2/2 [==============================] - 0s 41ms/step - loss: 1.5183 - acc: 0.8750 - val_loss: 18.6892 - val_acc: 0.2812\n",
            "Epoch 188/250\n",
            "2/2 [==============================] - 0s 42ms/step - loss: 1.3385 - acc: 0.9688 - val_loss: 19.3654 - val_acc: 0.2812\n",
            "Epoch 189/250\n",
            "2/2 [==============================] - 0s 49ms/step - loss: 0.3210 - acc: 0.9688 - val_loss: 20.9439 - val_acc: 0.2812\n",
            "Epoch 190/250\n",
            "2/2 [==============================] - 0s 44ms/step - loss: 1.9701 - acc: 0.9062 - val_loss: 20.9427 - val_acc: 0.2812\n",
            "Epoch 191/250\n",
            "2/2 [==============================] - 0s 49ms/step - loss: 1.2844 - acc: 0.9375 - val_loss: 19.7534 - val_acc: 0.2812\n",
            "Epoch 192/250\n",
            "2/2 [==============================] - 0s 45ms/step - loss: 2.1442 - acc: 0.8750 - val_loss: 20.8788 - val_acc: 0.2812\n",
            "Epoch 193/250\n",
            "2/2 [==============================] - 0s 50ms/step - loss: 1.0731 - acc: 0.9688 - val_loss: 22.5248 - val_acc: 0.2812\n",
            "Epoch 194/250\n",
            "2/2 [==============================] - 0s 40ms/step - loss: 1.1013 - acc: 0.9375 - val_loss: 23.6190 - val_acc: 0.2812\n",
            "Epoch 195/250\n",
            "2/2 [==============================] - 0s 51ms/step - loss: 0.5820 - acc: 0.9062 - val_loss: 26.3586 - val_acc: 0.2812\n",
            "Epoch 196/250\n",
            "2/2 [==============================] - 0s 42ms/step - loss: 0.5811 - acc: 0.9062 - val_loss: 28.6638 - val_acc: 0.2812\n",
            "Epoch 197/250\n",
            "2/2 [==============================] - 0s 45ms/step - loss: 0.2893 - acc: 0.9375 - val_loss: 31.1054 - val_acc: 0.2812\n",
            "Epoch 198/250\n",
            "2/2 [==============================] - 0s 42ms/step - loss: 1.8307 - acc: 0.9062 - val_loss: 32.3815 - val_acc: 0.2812\n",
            "Epoch 199/250\n",
            "2/2 [==============================] - 0s 42ms/step - loss: 0.5131 - acc: 0.9375 - val_loss: 32.7032 - val_acc: 0.2812\n",
            "Epoch 200/250\n",
            "2/2 [==============================] - 0s 41ms/step - loss: 0.0763 - acc: 0.9688 - val_loss: 32.5891 - val_acc: 0.2812\n",
            "Epoch 201/250\n",
            "2/2 [==============================] - 0s 41ms/step - loss: 2.2752 - acc: 0.9062 - val_loss: 30.3674 - val_acc: 0.2812\n",
            "Epoch 202/250\n",
            "2/2 [==============================] - 0s 42ms/step - loss: 1.2466 - acc: 0.9375 - val_loss: 26.9593 - val_acc: 0.2812\n",
            "Epoch 203/250\n",
            "2/2 [==============================] - 0s 42ms/step - loss: 0.3078 - acc: 0.9375 - val_loss: 24.6075 - val_acc: 0.2812\n",
            "Epoch 204/250\n",
            "2/2 [==============================] - 0s 45ms/step - loss: 0.5072 - acc: 0.9688 - val_loss: 23.8280 - val_acc: 0.2812\n",
            "Epoch 205/250\n",
            "2/2 [==============================] - 0s 44ms/step - loss: 0.1371 - acc: 0.9688 - val_loss: 23.3572 - val_acc: 0.2812\n",
            "Epoch 206/250\n",
            "2/2 [==============================] - 0s 40ms/step - loss: 2.9337 - acc: 0.9375 - val_loss: 24.0427 - val_acc: 0.2812\n",
            "Epoch 207/250\n",
            "2/2 [==============================] - 0s 44ms/step - loss: 0.2223 - acc: 0.9375 - val_loss: 26.0902 - val_acc: 0.2812\n",
            "Epoch 208/250\n",
            "2/2 [==============================] - 0s 44ms/step - loss: 3.2034 - acc: 0.9375 - val_loss: 29.3663 - val_acc: 0.2812\n",
            "Epoch 209/250\n",
            "2/2 [==============================] - 0s 52ms/step - loss: 1.3635 - acc: 0.9375 - val_loss: 27.8989 - val_acc: 0.2812\n",
            "Epoch 210/250\n",
            "2/2 [==============================] - 0s 43ms/step - loss: 2.7163 - acc: 0.8750 - val_loss: 25.7789 - val_acc: 0.2812\n",
            "Epoch 211/250\n",
            "2/2 [==============================] - 0s 39ms/step - loss: 2.7381 - acc: 0.8750 - val_loss: 27.7409 - val_acc: 0.2812\n",
            "Epoch 212/250\n",
            "2/2 [==============================] - 0s 42ms/step - loss: 0.8818 - acc: 0.9375 - val_loss: 30.6432 - val_acc: 0.2812\n",
            "Epoch 213/250\n",
            "2/2 [==============================] - 0s 43ms/step - loss: 1.8223 - acc: 0.9062 - val_loss: 32.8383 - val_acc: 0.2812\n",
            "Epoch 214/250\n",
            "2/2 [==============================] - 0s 42ms/step - loss: 0.4968 - acc: 0.9688 - val_loss: 36.1063 - val_acc: 0.2812\n",
            "Epoch 215/250\n",
            "2/2 [==============================] - 0s 41ms/step - loss: 0.3381 - acc: 0.9688 - val_loss: 39.1397 - val_acc: 0.2812\n",
            "Epoch 216/250\n",
            "2/2 [==============================] - 0s 45ms/step - loss: 2.9976 - acc: 0.9062 - val_loss: 40.0553 - val_acc: 0.2812\n",
            "Epoch 217/250\n",
            "2/2 [==============================] - 0s 42ms/step - loss: 0.4447 - acc: 0.9062 - val_loss: 41.8142 - val_acc: 0.2812\n",
            "Epoch 218/250\n",
            "2/2 [==============================] - 0s 42ms/step - loss: 0.4306 - acc: 0.9688 - val_loss: 42.4440 - val_acc: 0.2812\n",
            "Epoch 219/250\n",
            "2/2 [==============================] - 0s 42ms/step - loss: 1.6472 - acc: 0.9375 - val_loss: 42.8562 - val_acc: 0.2812\n",
            "Epoch 220/250\n",
            "2/2 [==============================] - 0s 41ms/step - loss: 2.1256 - acc: 0.9688 - val_loss: 42.5587 - val_acc: 0.2812\n",
            "Epoch 221/250\n",
            "2/2 [==============================] - 0s 47ms/step - loss: 1.2637 - acc: 0.8750 - val_loss: 41.3934 - val_acc: 0.2812\n",
            "Epoch 222/250\n",
            "2/2 [==============================] - 0s 51ms/step - loss: 1.7639 - acc: 0.9062 - val_loss: 38.9839 - val_acc: 0.2812\n",
            "Epoch 223/250\n",
            "2/2 [==============================] - 0s 59ms/step - loss: 0.6422 - acc: 0.9375 - val_loss: 37.6270 - val_acc: 0.2812\n",
            "Epoch 224/250\n",
            "2/2 [==============================] - 0s 53ms/step - loss: 0.5032 - acc: 0.9062 - val_loss: 36.1693 - val_acc: 0.2812\n",
            "Epoch 225/250\n",
            "2/2 [==============================] - 0s 42ms/step - loss: 0.7679 - acc: 0.9062 - val_loss: 34.3300 - val_acc: 0.2812\n",
            "Epoch 226/250\n",
            "2/2 [==============================] - 0s 49ms/step - loss: 0.1877 - acc: 0.9062 - val_loss: 34.9995 - val_acc: 0.2812\n",
            "Epoch 227/250\n",
            "2/2 [==============================] - 0s 41ms/step - loss: 0.1472 - acc: 0.9688 - val_loss: 36.4373 - val_acc: 0.2812\n",
            "Epoch 228/250\n",
            "2/2 [==============================] - 0s 41ms/step - loss: 0.4246 - acc: 0.9375 - val_loss: 38.4599 - val_acc: 0.2812\n",
            "Epoch 229/250\n",
            "2/2 [==============================] - 0s 43ms/step - loss: 0.1742 - acc: 0.9375 - val_loss: 39.7595 - val_acc: 0.2812\n",
            "Epoch 230/250\n",
            "2/2 [==============================] - 0s 42ms/step - loss: 9.4469e-04 - acc: 1.0000 - val_loss: 40.8535 - val_acc: 0.2812\n",
            "Epoch 231/250\n",
            "2/2 [==============================] - 0s 45ms/step - loss: 0.5179 - acc: 0.9375 - val_loss: 41.0002 - val_acc: 0.2812\n",
            "Epoch 232/250\n",
            "2/2 [==============================] - 0s 42ms/step - loss: 0.0010 - acc: 1.0000 - val_loss: 41.8224 - val_acc: 0.2812\n",
            "Epoch 233/250\n",
            "2/2 [==============================] - 0s 44ms/step - loss: 0.4475 - acc: 0.9688 - val_loss: 41.4508 - val_acc: 0.2812\n",
            "Epoch 234/250\n",
            "2/2 [==============================] - 0s 43ms/step - loss: 2.4857 - acc: 0.8750 - val_loss: 40.2563 - val_acc: 0.2812\n",
            "Epoch 235/250\n",
            "2/2 [==============================] - 0s 46ms/step - loss: 1.0193 - acc: 0.9375 - val_loss: 38.9032 - val_acc: 0.2812\n",
            "Epoch 236/250\n",
            "2/2 [==============================] - 0s 47ms/step - loss: 0.4466 - acc: 0.9375 - val_loss: 39.4028 - val_acc: 0.2812\n",
            "Epoch 237/250\n",
            "2/2 [==============================] - 0s 42ms/step - loss: 0.0424 - acc: 0.9688 - val_loss: 40.5253 - val_acc: 0.2812\n",
            "Epoch 238/250\n",
            "2/2 [==============================] - 0s 42ms/step - loss: 2.3543 - acc: 0.9062 - val_loss: 42.6120 - val_acc: 0.2812\n",
            "Epoch 239/250\n",
            "2/2 [==============================] - 0s 41ms/step - loss: 0.7707 - acc: 0.9375 - val_loss: 45.7227 - val_acc: 0.2812\n",
            "Epoch 240/250\n",
            "2/2 [==============================] - 0s 50ms/step - loss: 0.1851 - acc: 0.9375 - val_loss: 49.3579 - val_acc: 0.2812\n",
            "Epoch 241/250\n",
            "2/2 [==============================] - 0s 42ms/step - loss: 0.4727 - acc: 0.9688 - val_loss: 53.0275 - val_acc: 0.2812\n",
            "Epoch 242/250\n",
            "2/2 [==============================] - 0s 45ms/step - loss: 0.1049 - acc: 0.9688 - val_loss: 55.9909 - val_acc: 0.2812\n",
            "Epoch 243/250\n",
            "2/2 [==============================] - 0s 48ms/step - loss: 0.6732 - acc: 0.9688 - val_loss: 57.5869 - val_acc: 0.2812\n",
            "Epoch 244/250\n",
            "2/2 [==============================] - 0s 52ms/step - loss: 0.3446 - acc: 0.9375 - val_loss: 57.5779 - val_acc: 0.2812\n",
            "Epoch 245/250\n",
            "2/2 [==============================] - 0s 48ms/step - loss: 2.6596 - acc: 0.9062 - val_loss: 53.1750 - val_acc: 0.2812\n",
            "Epoch 246/250\n",
            "2/2 [==============================] - 0s 45ms/step - loss: 3.0058 - acc: 0.9375 - val_loss: 48.3160 - val_acc: 0.2812\n",
            "Epoch 247/250\n",
            "2/2 [==============================] - 0s 41ms/step - loss: 1.3899 - acc: 0.9375 - val_loss: 43.7418 - val_acc: 0.2812\n",
            "Epoch 248/250\n",
            "2/2 [==============================] - 0s 50ms/step - loss: 1.7933 - acc: 0.9688 - val_loss: 42.4299 - val_acc: 0.2812\n",
            "Epoch 249/250\n",
            "2/2 [==============================] - 0s 44ms/step - loss: 0.0012 - acc: 1.0000 - val_loss: 41.5793 - val_acc: 0.2812\n",
            "Epoch 250/250\n",
            "2/2 [==============================] - 0s 39ms/step - loss: 8.2382e-04 - acc: 1.0000 - val_loss: 40.7789 - val_acc: 0.2812\n",
            "4/4 [==============================] - 0s 8ms/step - loss: 44.3414 - acc: 0.2812\n"
          ]
        }
      ],
      "source": [
        "model = Sequential() \n",
        "model.add(Flatten(input_shape=train_data.shape[1:])) \n",
        "model.add(Dense(100, activation=keras.layers.LeakyReLU(alpha=0.3))) \n",
        "model.add(Dropout(0.5)) \n",
        "model.add(Dense(50, activation=keras.layers.LeakyReLU(alpha=0.3))) \n",
        "model.add(Dropout(0.3)) \n",
        "model.add(Dense(num_classes, activation=\"softmax\"))\n",
        "model.compile(loss=\"categorical_crossentropy\",\n",
        "   optimizer=\"adam\",\n",
        "   metrics=[\"acc\"])\n",
        "history = model.fit(train_data, train_labels, \n",
        "   epochs=250,\n",
        "   batch_size=16, \n",
        "   validation_data=(validate_data, validate_labels))\n",
        "model.save_weights(top_model_weights_path)\n",
        "(eval_loss, eval_accuracy) = model.evaluate( \n",
        "    test_data, test_labels, batch_size=batch_size,     verbose=1)"
      ]
    },
    {
      "cell_type": "code",
      "source": [
        "model = Sequential() \n",
        "model.add(Flatten(input_shape=train_data.shape[1:])) \n",
        "model.add(Dense(100, activation=keras.layers.LeakyReLU(alpha=0.3))) \n",
        "model.add(Dropout(0.5)) \n",
        "model.add(Dense(50, activation=keras.layers.LeakyReLU(alpha=0.3))) \n",
        "model.add(Dropout(0.3)) \n",
        "model.add(Dense(num_classes, activation=\"softmax\"))\n",
        "model.compile(loss=\"categorical_crossentropy\",\n",
        "   optimizer=optimizers.RMSprop(lr=1e-4),\n",
        "   metrics=[\"acc\"])\n",
        "history = model.fit(train_data, train_labels, \n",
        "   epochs=30,\n",
        "   batch_size=batch_size, \n",
        "   validation_data=(train_data, validation_labels))\n",
        "model.save_weights(top_model_weights_path)\n",
        "(eval_loss, eval_accuracy) = model.evaluate( \n",
        "    validation_data, validation_labels, batch_size=batch_size,     verbose=1)"
      ],
      "metadata": {
        "id": "1yO3abigr3Vz"
      },
      "execution_count": null,
      "outputs": []
    },
    {
      "cell_type": "code",
      "execution_count": null,
      "metadata": {
        "colab": {
          "base_uri": "https://localhost:8080/"
        },
        "id": "BX9XnYYIbuwM",
        "outputId": "606a2918-50da-475c-97ee-ff5d42aebe3f"
      },
      "outputs": [
        {
          "output_type": "stream",
          "name": "stdout",
          "text": [
            "Model: \"sequential_2\"\n",
            "_________________________________________________________________\n",
            " Layer (type)                Output Shape              Param #   \n",
            "=================================================================\n",
            " flatten_2 (Flatten)         (None, 15360)             0         \n",
            "                                                                 \n",
            " dense_5 (Dense)             (None, 100)               1536100   \n",
            "                                                                 \n",
            " dropout_4 (Dropout)         (None, 100)               0         \n",
            "                                                                 \n",
            " dense_6 (Dense)             (None, 50)                5050      \n",
            "                                                                 \n",
            " dropout_5 (Dropout)         (None, 50)                0         \n",
            "                                                                 \n",
            " dense_7 (Dense)             (None, 4)                 204       \n",
            "                                                                 \n",
            "=================================================================\n",
            "Total params: 1,541,354\n",
            "Trainable params: 1,541,354\n",
            "Non-trainable params: 0\n",
            "_________________________________________________________________\n"
          ]
        }
      ],
      "source": [
        "model.summary()"
      ]
    }
  ],
  "metadata": {
    "accelerator": "GPU",
    "colab": {
      "provenance": []
    },
    "gpuClass": "standard",
    "kernelspec": {
      "display_name": "Python 3",
      "name": "python3"
    },
    "language_info": {
      "name": "python"
    }
  },
  "nbformat": 4,
  "nbformat_minor": 0
}